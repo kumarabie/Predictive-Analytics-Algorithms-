{
 "cells": [
  {
   "cell_type": "code",
   "execution_count": 2,
   "id": "5b630100",
   "metadata": {},
   "outputs": [],
   "source": [
    "import numpy as np\n",
    "import pandas as pd\n",
    "from matplotlib import pyplot as plt\n",
    "from scipy.cluster.hierarchy import dendrogram\n",
    "import sklearn.cluster as cluster\n",
    "from sklearn.cluster import KMeans\n",
    "from sklearn.preprocessing import StandardScaler\n",
    "import seaborn as sns\n",
    "from sklearn_extra.cluster import KMedoids\n",
    "import scipy.cluster.hierarchy as sch\n",
    "from sklearn.cluster import AgglomerativeClustering\n",
    "from sklearn.metrics import silhouette_score\n",
    "from sklearn.model_selection import train_test_split\n",
    "from sklearn.tree import DecisionTreeClassifier\n",
    "import matplotlib.pyplot as plt\n",
    "from sklearn.metrics import plot_roc_curve\n",
    "from sklearn.metrics import classification_report\n",
    "from sklearn.metrics import confusion_matrix\n",
    "from sklearn.metrics import ConfusionMatrixDisplay\n",
    "from sklearn.metrics import roc_auc_score\n",
    "from sklearn import metrics\n",
    "from sklearn import tree\n",
    "from sklearn.metrics import accuracy_score\n",
    "\n",
    "df = pd.read_csv('Adult2_Training', sep='\\t', lineterminator='\\r')\n",
    "#df_test = pd.read_csv('Adult2_Test.txt', sep='\\t', lineterminator='\\r')"
   ]
  },
  {
   "cell_type": "code",
   "execution_count": 4,
   "id": "980a5c3b",
   "metadata": {
    "scrolled": false
   },
   "outputs": [
    {
     "ename": "NameError",
     "evalue": "name 'df_test' is not defined",
     "output_type": "error",
     "traceback": [
      "\u001b[1;31m---------------------------------------------------------------------------\u001b[0m",
      "\u001b[1;31mNameError\u001b[0m                                 Traceback (most recent call last)",
      "Input \u001b[1;32mIn [4]\u001b[0m, in \u001b[0;36m<cell line: 2>\u001b[1;34m()\u001b[0m\n\u001b[0;32m      1\u001b[0m df[\u001b[38;5;124m'\u001b[39m\u001b[38;5;124mAge_mm\u001b[39m\u001b[38;5;124m'\u001b[39m] \u001b[38;5;241m=\u001b[39m df[\u001b[38;5;124m'\u001b[39m\u001b[38;5;124mAge_mm\u001b[39m\u001b[38;5;124m'\u001b[39m]\u001b[38;5;241m.\u001b[39mstr\u001b[38;5;241m.\u001b[39mreplace(\u001b[38;5;124m'\u001b[39m\u001b[38;5;130;01m\\n\u001b[39;00m\u001b[38;5;124m'\u001b[39m,\u001b[38;5;124m'\u001b[39m\u001b[38;5;124m'\u001b[39m)\n\u001b[1;32m----> 2\u001b[0m \u001b[43mdf_test\u001b[49m[\u001b[38;5;124m'\u001b[39m\u001b[38;5;124mAge_mm\u001b[39m\u001b[38;5;124m'\u001b[39m] \u001b[38;5;241m=\u001b[39m df[\u001b[38;5;124m'\u001b[39m\u001b[38;5;124mAge_mm\u001b[39m\u001b[38;5;124m'\u001b[39m]\u001b[38;5;241m.\u001b[39mstr\u001b[38;5;241m.\u001b[39mreplace(\u001b[38;5;124m'\u001b[39m\u001b[38;5;130;01m\\n\u001b[39;00m\u001b[38;5;124m'\u001b[39m,\u001b[38;5;124m'\u001b[39m\u001b[38;5;124m'\u001b[39m)\n\u001b[0;32m      3\u001b[0m df_test\u001b[38;5;241m.\u001b[39mhead()\n",
      "\u001b[1;31mNameError\u001b[0m: name 'df_test' is not defined"
     ]
    }
   ],
   "source": [
    "df['Age_mm'] = df['Age_mm'].str.replace('\\n','')\n",
    "df_test['Age_mm'] = df_test['Age_mm'].str.replace('\\n','')\n",
    "df_test.head()"
   ]
  },
  {
   "cell_type": "code",
   "execution_count": 61,
   "id": "cc34d57f",
   "metadata": {},
   "outputs": [
    {
     "data": {
      "text/plain": [
       "(18762, 13)"
      ]
     },
     "execution_count": 61,
     "metadata": {},
     "output_type": "execute_result"
    }
   ],
   "source": [
    "df.shape"
   ]
  },
  {
   "cell_type": "code",
   "execution_count": 63,
   "id": "ffa35240",
   "metadata": {
    "scrolled": false
   },
   "outputs": [
    {
     "data": {
      "text/plain": [
       "Age_mm                     False\n",
       "Years of education_mm       True\n",
       "Hours_mm                    True\n",
       "Capital gains_mm            True\n",
       "Capital losses_mm           True\n",
       "Marital status              True\n",
       "Work Class                  True\n",
       "Gender                      True\n",
       "Race                        True\n",
       "Income                      True\n",
       "Abs(CapGains+Losses)        True\n",
       "Capital Gains or Losses     True\n",
       "Training                    True\n",
       "dtype: bool"
      ]
     },
     "execution_count": 63,
     "metadata": {},
     "output_type": "execute_result"
    }
   ],
   "source": [
    "df.isna().any()"
   ]
  },
  {
   "cell_type": "code",
   "execution_count": 87,
   "id": "17c8037d",
   "metadata": {},
   "outputs": [
    {
     "data": {
      "text/plain": [
       "(18761, 13)"
      ]
     },
     "execution_count": 87,
     "metadata": {},
     "output_type": "execute_result"
    }
   ],
   "source": [
    "df = df.dropna(how='any',axis=0) \n",
    "df.shape"
   ]
  },
  {
   "cell_type": "code",
   "execution_count": 88,
   "id": "718d4cde",
   "metadata": {},
   "outputs": [
    {
     "data": {
      "text/plain": [
       "F    16346\n",
       "T     2415\n",
       "Name: Capital Gains or Losses, dtype: int64"
      ]
     },
     "execution_count": 88,
     "metadata": {},
     "output_type": "execute_result"
    }
   ],
   "source": [
    "# Checking class balance\n",
    "df['Capital Gains or Losses'].value_counts()"
   ]
  },
  {
   "cell_type": "code",
   "execution_count": 89,
   "id": "ea0836c4",
   "metadata": {},
   "outputs": [
    {
     "name": "stderr",
     "output_type": "stream",
     "text": [
      "/var/folders/1y/cp84b1jn2f16p5scv8xkzyzh0000gn/T/ipykernel_24183/3743074562.py:4: SettingWithCopyWarning: \n",
      "A value is trying to be set on a copy of a slice from a DataFrame.\n",
      "Try using .loc[row_indexer,col_indexer] = value instead\n",
      "\n",
      "See the caveats in the documentation: https://pandas.pydata.org/pandas-docs/stable/user_guide/indexing.html#returning-a-view-versus-a-copy\n",
      "  df[[\"Marital status\",\"Work Class\",\"Gender\",\"Race\",\"Income\",\"Capital Gains or Losses\"]] = enc.fit_transform(df[[\"Marital status\",\"Work Class\",\"Gender\",\"Race\",\"Income\",\"Capital Gains or Losses\"]])\n"
     ]
    }
   ],
   "source": [
    "from sklearn.preprocessing import OrdinalEncoder\n",
    "enc = OrdinalEncoder()\n",
    "\n",
    "df[[\"Marital status\",\"Work Class\",\"Gender\",\"Race\",\"Income\",\"Capital Gains or Losses\"]] = enc.fit_transform(df[[\"Marital status\",\"Work Class\",\"Gender\",\"Race\",\"Income\",\"Capital Gains or Losses\"]])\n",
    "#df_test[[\"Marital status\",\"Work Class\",\"Gender\",\"Race\",\"Income\",\"Capital Gains or Losses\"]] = enc.fit_transform(df_test[[\"Marital status\",\"Work Class\",\"Gender\",\"Race\",\"Income\",\"Capital Gains or Losses\"]])"
   ]
  },
  {
   "cell_type": "code",
   "execution_count": 93,
   "id": "5489df44",
   "metadata": {},
   "outputs": [],
   "source": [
    "from sklearn.preprocessing import StandardScaler\n",
    "sc = StandardScaler()\n",
    "\n",
    "df = df[[\"Age_mm\",\"Years of education_mm\",\"Hours_mm\",\"Capital gains_mm\",\"Capital losses_mm\",\"Abs(CapGains+Losses)\",\"Marital status\",\"Work Class\",\"Gender\",\"Race\",\"Income\",\"Capital Gains or Losses\"]]\n",
    "#X[[\"Age_mm\",\"Years of education_mm\",\"Hours_mm\",\"Capital gains_mm\",\"Capital losses_mm\",\"Abs(CapGains+Losses)\"]] = sc.fit_transform(X[[\"Int'l Plan\",\"VMail Plan\",\"Day Mins\",\"Day Calls\",\"Eve Mins\",\"Eve Calls\",\"Night Mins\",\"Night Calls\",\"Intl Mins\",\"Intl Calls\"]])\n"
   ]
  },
  {
   "cell_type": "code",
   "execution_count": 94,
   "id": "ebc32eaa",
   "metadata": {},
   "outputs": [
    {
     "data": {
      "text/html": [
       "<div>\n",
       "<style scoped>\n",
       "    .dataframe tbody tr th:only-of-type {\n",
       "        vertical-align: middle;\n",
       "    }\n",
       "\n",
       "    .dataframe tbody tr th {\n",
       "        vertical-align: top;\n",
       "    }\n",
       "\n",
       "    .dataframe thead th {\n",
       "        text-align: right;\n",
       "    }\n",
       "</style>\n",
       "<table border=\"1\" class=\"dataframe\">\n",
       "  <thead>\n",
       "    <tr style=\"text-align: right;\">\n",
       "      <th></th>\n",
       "      <th>Age_mm</th>\n",
       "      <th>Years of education_mm</th>\n",
       "      <th>Hours_mm</th>\n",
       "      <th>Capital gains_mm</th>\n",
       "      <th>Capital losses_mm</th>\n",
       "      <th>Abs(CapGains+Losses)</th>\n",
       "      <th>Marital status</th>\n",
       "      <th>Work Class</th>\n",
       "      <th>Gender</th>\n",
       "      <th>Race</th>\n",
       "      <th>Income</th>\n",
       "      <th>Capital Gains or Losses</th>\n",
       "    </tr>\n",
       "  </thead>\n",
       "  <tbody>\n",
       "    <tr>\n",
       "      <th>0</th>\n",
       "      <td>0.301370</td>\n",
       "      <td>0.800000</td>\n",
       "      <td>0.397959</td>\n",
       "      <td>0.02174</td>\n",
       "      <td>0.0</td>\n",
       "      <td>0.02174</td>\n",
       "      <td>2.0</td>\n",
       "      <td>0.0</td>\n",
       "      <td>1.0</td>\n",
       "      <td>4.0</td>\n",
       "      <td>0.0</td>\n",
       "      <td>1.0</td>\n",
       "    </tr>\n",
       "    <tr>\n",
       "      <th>1</th>\n",
       "      <td>0.287671</td>\n",
       "      <td>0.533333</td>\n",
       "      <td>0.397959</td>\n",
       "      <td>0.00000</td>\n",
       "      <td>0.0</td>\n",
       "      <td>0.00000</td>\n",
       "      <td>0.0</td>\n",
       "      <td>2.0</td>\n",
       "      <td>1.0</td>\n",
       "      <td>4.0</td>\n",
       "      <td>0.0</td>\n",
       "      <td>0.0</td>\n",
       "    </tr>\n",
       "    <tr>\n",
       "      <th>2</th>\n",
       "      <td>0.493151</td>\n",
       "      <td>0.400000</td>\n",
       "      <td>0.397959</td>\n",
       "      <td>0.00000</td>\n",
       "      <td>0.0</td>\n",
       "      <td>0.00000</td>\n",
       "      <td>1.0</td>\n",
       "      <td>2.0</td>\n",
       "      <td>1.0</td>\n",
       "      <td>2.0</td>\n",
       "      <td>0.0</td>\n",
       "      <td>0.0</td>\n",
       "    </tr>\n",
       "    <tr>\n",
       "      <th>3</th>\n",
       "      <td>0.273973</td>\n",
       "      <td>0.866667</td>\n",
       "      <td>0.397959</td>\n",
       "      <td>0.00000</td>\n",
       "      <td>0.0</td>\n",
       "      <td>0.00000</td>\n",
       "      <td>1.0</td>\n",
       "      <td>2.0</td>\n",
       "      <td>0.0</td>\n",
       "      <td>4.0</td>\n",
       "      <td>0.0</td>\n",
       "      <td>0.0</td>\n",
       "    </tr>\n",
       "    <tr>\n",
       "      <th>4</th>\n",
       "      <td>0.438356</td>\n",
       "      <td>0.266667</td>\n",
       "      <td>0.153061</td>\n",
       "      <td>0.00000</td>\n",
       "      <td>0.0</td>\n",
       "      <td>0.00000</td>\n",
       "      <td>1.0</td>\n",
       "      <td>2.0</td>\n",
       "      <td>0.0</td>\n",
       "      <td>2.0</td>\n",
       "      <td>0.0</td>\n",
       "      <td>0.0</td>\n",
       "    </tr>\n",
       "    <tr>\n",
       "      <th>...</th>\n",
       "      <td>...</td>\n",
       "      <td>...</td>\n",
       "      <td>...</td>\n",
       "      <td>...</td>\n",
       "      <td>...</td>\n",
       "      <td>...</td>\n",
       "      <td>...</td>\n",
       "      <td>...</td>\n",
       "      <td>...</td>\n",
       "      <td>...</td>\n",
       "      <td>...</td>\n",
       "      <td>...</td>\n",
       "    </tr>\n",
       "    <tr>\n",
       "      <th>18756</th>\n",
       "      <td>0.506849</td>\n",
       "      <td>0.600000</td>\n",
       "      <td>0.551020</td>\n",
       "      <td>0.00000</td>\n",
       "      <td>0.0</td>\n",
       "      <td>0.00000</td>\n",
       "      <td>0.0</td>\n",
       "      <td>2.0</td>\n",
       "      <td>1.0</td>\n",
       "      <td>4.0</td>\n",
       "      <td>0.0</td>\n",
       "      <td>0.0</td>\n",
       "    </tr>\n",
       "    <tr>\n",
       "      <th>18757</th>\n",
       "      <td>0.205479</td>\n",
       "      <td>0.533333</td>\n",
       "      <td>0.397959</td>\n",
       "      <td>0.00000</td>\n",
       "      <td>0.0</td>\n",
       "      <td>0.00000</td>\n",
       "      <td>1.0</td>\n",
       "      <td>2.0</td>\n",
       "      <td>1.0</td>\n",
       "      <td>4.0</td>\n",
       "      <td>0.0</td>\n",
       "      <td>0.0</td>\n",
       "    </tr>\n",
       "    <tr>\n",
       "      <th>18758</th>\n",
       "      <td>0.328767</td>\n",
       "      <td>0.333333</td>\n",
       "      <td>0.602041</td>\n",
       "      <td>0.00000</td>\n",
       "      <td>0.0</td>\n",
       "      <td>0.00000</td>\n",
       "      <td>1.0</td>\n",
       "      <td>2.0</td>\n",
       "      <td>1.0</td>\n",
       "      <td>4.0</td>\n",
       "      <td>0.0</td>\n",
       "      <td>0.0</td>\n",
       "    </tr>\n",
       "    <tr>\n",
       "      <th>18759</th>\n",
       "      <td>0.219178</td>\n",
       "      <td>0.533333</td>\n",
       "      <td>0.418367</td>\n",
       "      <td>0.00000</td>\n",
       "      <td>0.0</td>\n",
       "      <td>0.00000</td>\n",
       "      <td>0.0</td>\n",
       "      <td>2.0</td>\n",
       "      <td>0.0</td>\n",
       "      <td>4.0</td>\n",
       "      <td>0.0</td>\n",
       "      <td>0.0</td>\n",
       "    </tr>\n",
       "    <tr>\n",
       "      <th>18760</th>\n",
       "      <td>0.109589</td>\n",
       "      <td>0.800000</td>\n",
       "      <td>0.316327</td>\n",
       "      <td>0.00000</td>\n",
       "      <td>0.0</td>\n",
       "      <td>0.00000</td>\n",
       "      <td>1.0</td>\n",
       "      <td>2.0</td>\n",
       "      <td>0.0</td>\n",
       "      <td>4.0</td>\n",
       "      <td>0.0</td>\n",
       "      <td>0.0</td>\n",
       "    </tr>\n",
       "  </tbody>\n",
       "</table>\n",
       "<p>18761 rows × 12 columns</p>\n",
       "</div>"
      ],
      "text/plain": [
       "         Age_mm  Years of education_mm  Hours_mm  Capital gains_mm  \\\n",
       "0      0.301370               0.800000  0.397959           0.02174   \n",
       "1      0.287671               0.533333  0.397959           0.00000   \n",
       "2      0.493151               0.400000  0.397959           0.00000   \n",
       "3      0.273973               0.866667  0.397959           0.00000   \n",
       "4      0.438356               0.266667  0.153061           0.00000   \n",
       "...         ...                    ...       ...               ...   \n",
       "18756  0.506849               0.600000  0.551020           0.00000   \n",
       "18757  0.205479               0.533333  0.397959           0.00000   \n",
       "18758  0.328767               0.333333  0.602041           0.00000   \n",
       "18759  0.219178               0.533333  0.418367           0.00000   \n",
       "18760  0.109589               0.800000  0.316327           0.00000   \n",
       "\n",
       "       Capital losses_mm  Abs(CapGains+Losses)  Marital status  Work Class  \\\n",
       "0                    0.0               0.02174             2.0         0.0   \n",
       "1                    0.0               0.00000             0.0         2.0   \n",
       "2                    0.0               0.00000             1.0         2.0   \n",
       "3                    0.0               0.00000             1.0         2.0   \n",
       "4                    0.0               0.00000             1.0         2.0   \n",
       "...                  ...                   ...             ...         ...   \n",
       "18756                0.0               0.00000             0.0         2.0   \n",
       "18757                0.0               0.00000             1.0         2.0   \n",
       "18758                0.0               0.00000             1.0         2.0   \n",
       "18759                0.0               0.00000             0.0         2.0   \n",
       "18760                0.0               0.00000             1.0         2.0   \n",
       "\n",
       "       Gender  Race  Income  Capital Gains or Losses  \n",
       "0         1.0   4.0     0.0                      1.0  \n",
       "1         1.0   4.0     0.0                      0.0  \n",
       "2         1.0   2.0     0.0                      0.0  \n",
       "3         0.0   4.0     0.0                      0.0  \n",
       "4         0.0   2.0     0.0                      0.0  \n",
       "...       ...   ...     ...                      ...  \n",
       "18756     1.0   4.0     0.0                      0.0  \n",
       "18757     1.0   4.0     0.0                      0.0  \n",
       "18758     1.0   4.0     0.0                      0.0  \n",
       "18759     0.0   4.0     0.0                      0.0  \n",
       "18760     0.0   4.0     0.0                      0.0  \n",
       "\n",
       "[18761 rows x 12 columns]"
      ]
     },
     "execution_count": 94,
     "metadata": {},
     "output_type": "execute_result"
    }
   ],
   "source": [
    "df"
   ]
  },
  {
   "cell_type": "code",
   "execution_count": 95,
   "id": "17482519",
   "metadata": {},
   "outputs": [],
   "source": [
    "cluster1 = df.loc[df['Capital Gains or Losses'] == 0.0]\n",
    "cluster2 = df.loc[df['Capital Gains or Losses'] == 1.0]\n",
    "\n",
    "cluster1t = df_test.loc[df_test['Capital Gains or Losses'] == 0.0]\n",
    "cluster2t = df_test.loc[df_test['Capital Gains or Losses'] == 1.0]"
   ]
  },
  {
   "cell_type": "code",
   "execution_count": 104,
   "id": "b0f59e88",
   "metadata": {},
   "outputs": [
    {
     "data": {
      "text/html": [
       "<div>\n",
       "<style scoped>\n",
       "    .dataframe tbody tr th:only-of-type {\n",
       "        vertical-align: middle;\n",
       "    }\n",
       "\n",
       "    .dataframe tbody tr th {\n",
       "        vertical-align: top;\n",
       "    }\n",
       "\n",
       "    .dataframe thead th {\n",
       "        text-align: right;\n",
       "    }\n",
       "</style>\n",
       "<table border=\"1\" class=\"dataframe\">\n",
       "  <thead>\n",
       "    <tr style=\"text-align: right;\">\n",
       "      <th></th>\n",
       "      <th>Age_mm</th>\n",
       "      <th>Years of education_mm</th>\n",
       "      <th>Hours_mm</th>\n",
       "      <th>Capital gains_mm</th>\n",
       "      <th>Capital losses_mm</th>\n",
       "      <th>Marital status</th>\n",
       "      <th>Work Class</th>\n",
       "      <th>Gender</th>\n",
       "      <th>Race</th>\n",
       "      <th>Income</th>\n",
       "      <th>Abs(CapGains+Losses)</th>\n",
       "      <th>Capital Gains or Losses</th>\n",
       "    </tr>\n",
       "  </thead>\n",
       "  <tbody>\n",
       "    <tr>\n",
       "      <th>0</th>\n",
       "      <td>0.150685</td>\n",
       "      <td>0.800000</td>\n",
       "      <td>0.397959</td>\n",
       "      <td>0.000000</td>\n",
       "      <td>0.0</td>\n",
       "      <td>1.0</td>\n",
       "      <td>2.0</td>\n",
       "      <td>0.0</td>\n",
       "      <td>2.0</td>\n",
       "      <td>0.0</td>\n",
       "      <td>0.000000</td>\n",
       "      <td>0.0</td>\n",
       "    </tr>\n",
       "    <tr>\n",
       "      <th>1</th>\n",
       "      <td>0.342466</td>\n",
       "      <td>0.800000</td>\n",
       "      <td>0.397959</td>\n",
       "      <td>0.051781</td>\n",
       "      <td>0.0</td>\n",
       "      <td>1.0</td>\n",
       "      <td>2.0</td>\n",
       "      <td>1.0</td>\n",
       "      <td>4.0</td>\n",
       "      <td>1.0</td>\n",
       "      <td>0.051781</td>\n",
       "      <td>1.0</td>\n",
       "    </tr>\n",
       "    <tr>\n",
       "      <th>2</th>\n",
       "      <td>0.205479</td>\n",
       "      <td>0.733333</td>\n",
       "      <td>0.500000</td>\n",
       "      <td>0.000000</td>\n",
       "      <td>0.0</td>\n",
       "      <td>2.0</td>\n",
       "      <td>2.0</td>\n",
       "      <td>1.0</td>\n",
       "      <td>2.0</td>\n",
       "      <td>0.0</td>\n",
       "      <td>0.000000</td>\n",
       "      <td>0.0</td>\n",
       "    </tr>\n",
       "    <tr>\n",
       "      <th>3</th>\n",
       "      <td>0.356164</td>\n",
       "      <td>0.866667</td>\n",
       "      <td>0.448980</td>\n",
       "      <td>0.000000</td>\n",
       "      <td>0.0</td>\n",
       "      <td>0.0</td>\n",
       "      <td>3.0</td>\n",
       "      <td>0.0</td>\n",
       "      <td>4.0</td>\n",
       "      <td>1.0</td>\n",
       "      <td>0.000000</td>\n",
       "      <td>0.0</td>\n",
       "    </tr>\n",
       "    <tr>\n",
       "      <th>4</th>\n",
       "      <td>0.315068</td>\n",
       "      <td>1.000000</td>\n",
       "      <td>0.602041</td>\n",
       "      <td>0.000000</td>\n",
       "      <td>0.0</td>\n",
       "      <td>1.0</td>\n",
       "      <td>2.0</td>\n",
       "      <td>1.0</td>\n",
       "      <td>4.0</td>\n",
       "      <td>1.0</td>\n",
       "      <td>0.000000</td>\n",
       "      <td>0.0</td>\n",
       "    </tr>\n",
       "    <tr>\n",
       "      <th>...</th>\n",
       "      <td>...</td>\n",
       "      <td>...</td>\n",
       "      <td>...</td>\n",
       "      <td>...</td>\n",
       "      <td>...</td>\n",
       "      <td>...</td>\n",
       "      <td>...</td>\n",
       "      <td>...</td>\n",
       "      <td>...</td>\n",
       "      <td>...</td>\n",
       "      <td>...</td>\n",
       "      <td>...</td>\n",
       "    </tr>\n",
       "    <tr>\n",
       "      <th>6150</th>\n",
       "      <td>0.109589</td>\n",
       "      <td>0.400000</td>\n",
       "      <td>0.397959</td>\n",
       "      <td>0.000000</td>\n",
       "      <td>0.0</td>\n",
       "      <td>1.0</td>\n",
       "      <td>2.0</td>\n",
       "      <td>1.0</td>\n",
       "      <td>4.0</td>\n",
       "      <td>0.0</td>\n",
       "      <td>0.000000</td>\n",
       "      <td>0.0</td>\n",
       "    </tr>\n",
       "    <tr>\n",
       "      <th>6151</th>\n",
       "      <td>0.424658</td>\n",
       "      <td>0.800000</td>\n",
       "      <td>0.500000</td>\n",
       "      <td>0.000000</td>\n",
       "      <td>0.0</td>\n",
       "      <td>2.0</td>\n",
       "      <td>2.0</td>\n",
       "      <td>1.0</td>\n",
       "      <td>4.0</td>\n",
       "      <td>0.0</td>\n",
       "      <td>0.000000</td>\n",
       "      <td>0.0</td>\n",
       "    </tr>\n",
       "    <tr>\n",
       "      <th>6152</th>\n",
       "      <td>0.547945</td>\n",
       "      <td>0.600000</td>\n",
       "      <td>0.397959</td>\n",
       "      <td>0.000000</td>\n",
       "      <td>0.0</td>\n",
       "      <td>0.0</td>\n",
       "      <td>0.0</td>\n",
       "      <td>0.0</td>\n",
       "      <td>4.0</td>\n",
       "      <td>0.0</td>\n",
       "      <td>0.000000</td>\n",
       "      <td>0.0</td>\n",
       "    </tr>\n",
       "    <tr>\n",
       "      <th>6153</th>\n",
       "      <td>0.027397</td>\n",
       "      <td>0.533333</td>\n",
       "      <td>0.397959</td>\n",
       "      <td>0.000000</td>\n",
       "      <td>0.0</td>\n",
       "      <td>2.0</td>\n",
       "      <td>2.0</td>\n",
       "      <td>1.0</td>\n",
       "      <td>4.0</td>\n",
       "      <td>0.0</td>\n",
       "      <td>0.000000</td>\n",
       "      <td>0.0</td>\n",
       "    </tr>\n",
       "    <tr>\n",
       "      <th>6154</th>\n",
       "      <td>0.109589</td>\n",
       "      <td>0.800000</td>\n",
       "      <td>0.316327</td>\n",
       "      <td>0.000000</td>\n",
       "      <td>0.0</td>\n",
       "      <td>1.0</td>\n",
       "      <td>2.0</td>\n",
       "      <td>0.0</td>\n",
       "      <td>4.0</td>\n",
       "      <td>0.0</td>\n",
       "      <td>0.000000</td>\n",
       "      <td>0.0</td>\n",
       "    </tr>\n",
       "  </tbody>\n",
       "</table>\n",
       "<p>6155 rows × 12 columns</p>\n",
       "</div>"
      ],
      "text/plain": [
       "        Age_mm  Years of education_mm  Hours_mm  Capital gains_mm  \\\n",
       "0     0.150685               0.800000  0.397959          0.000000   \n",
       "1     0.342466               0.800000  0.397959          0.051781   \n",
       "2     0.205479               0.733333  0.500000          0.000000   \n",
       "3     0.356164               0.866667  0.448980          0.000000   \n",
       "4     0.315068               1.000000  0.602041          0.000000   \n",
       "...        ...                    ...       ...               ...   \n",
       "6150  0.109589               0.400000  0.397959          0.000000   \n",
       "6151  0.424658               0.800000  0.500000          0.000000   \n",
       "6152  0.547945               0.600000  0.397959          0.000000   \n",
       "6153  0.027397               0.533333  0.397959          0.000000   \n",
       "6154  0.109589               0.800000  0.316327          0.000000   \n",
       "\n",
       "      Capital losses_mm  Marital status  Work Class  Gender  Race  Income  \\\n",
       "0                   0.0             1.0         2.0     0.0   2.0     0.0   \n",
       "1                   0.0             1.0         2.0     1.0   4.0     1.0   \n",
       "2                   0.0             2.0         2.0     1.0   2.0     0.0   \n",
       "3                   0.0             0.0         3.0     0.0   4.0     1.0   \n",
       "4                   0.0             1.0         2.0     1.0   4.0     1.0   \n",
       "...                 ...             ...         ...     ...   ...     ...   \n",
       "6150                0.0             1.0         2.0     1.0   4.0     0.0   \n",
       "6151                0.0             2.0         2.0     1.0   4.0     0.0   \n",
       "6152                0.0             0.0         0.0     0.0   4.0     0.0   \n",
       "6153                0.0             2.0         2.0     1.0   4.0     0.0   \n",
       "6154                0.0             1.0         2.0     0.0   4.0     0.0   \n",
       "\n",
       "      Abs(CapGains+Losses)  Capital Gains or Losses  \n",
       "0                 0.000000                      0.0  \n",
       "1                 0.051781                      1.0  \n",
       "2                 0.000000                      0.0  \n",
       "3                 0.000000                      0.0  \n",
       "4                 0.000000                      0.0  \n",
       "...                    ...                      ...  \n",
       "6150              0.000000                      0.0  \n",
       "6151              0.000000                      0.0  \n",
       "6152              0.000000                      0.0  \n",
       "6153              0.000000                      0.0  \n",
       "6154              0.000000                      0.0  \n",
       "\n",
       "[6155 rows x 12 columns]"
      ]
     },
     "execution_count": 104,
     "metadata": {},
     "output_type": "execute_result"
    }
   ],
   "source": [
    "df_test"
   ]
  },
  {
   "cell_type": "code",
   "execution_count": 97,
   "id": "45939566",
   "metadata": {},
   "outputs": [
    {
     "name": "stdout",
     "output_type": "stream",
     "text": [
      "                     Fields  Cluster-1  Cluster-2\n",
      "0     Years of education_mm   0.596896   0.663934\n",
      "1                  Hours_mm   0.397687   0.432154\n",
      "2          Capital gains_mm   0.000000   0.085379\n",
      "3         Capital losses_mm   0.000000   0.155302\n",
      "4      Abs(CapGains+Losses)   0.000000   0.240681\n",
      "5            Marital status   1.369876   1.187992\n",
      "6                Work Class   1.959011   1.944513\n",
      "7                    Gender   0.655940   0.768530\n",
      "8                      Race   3.664994   3.727122\n",
      "9                    Income   0.191668   0.561905\n",
      "10  Capital Gains or Losses   0.000000   1.000000\n"
     ]
    },
    {
     "name": "stderr",
     "output_type": "stream",
     "text": [
      "/var/folders/1y/cp84b1jn2f16p5scv8xkzyzh0000gn/T/ipykernel_24183/13901468.py:3: FutureWarning: Dropping of nuisance columns in DataFrame reductions (with 'numeric_only=None') is deprecated; in a future version this will raise TypeError.  Select only valid columns before calling the reduction.\n",
      "  means = pd.DataFrame({'Fields': columns,'Cluster-1':list(cluster1.mean()),'Cluster-2':list(cluster2.mean())})\n"
     ]
    }
   ],
   "source": [
    "columns = list(cluster1.columns)\n",
    "columns.remove('Age_mm')\n",
    "means = pd.DataFrame({'Fields': columns,'Cluster-1':list(cluster1.mean()),'Cluster-2':list(cluster2.mean())})\n",
    "print(means)"
   ]
  },
  {
   "cell_type": "code",
   "execution_count": 108,
   "id": "f1f0fd79",
   "metadata": {
    "scrolled": false
   },
   "outputs": [
    {
     "name": "stdout",
     "output_type": "stream",
     "text": [
      "              precision    recall  f1-score   support\n",
      "\n",
      "         0.0       0.81      0.91      0.85      4674\n",
      "         1.0       0.52      0.33      0.40      1481\n",
      "\n",
      "    accuracy                           0.77      6155\n",
      "   macro avg       0.67      0.62      0.63      6155\n",
      "weighted avg       0.74      0.77      0.75      6155\n",
      "\n"
     ]
    },
    {
     "name": "stderr",
     "output_type": "stream",
     "text": [
      "/opt/anaconda3/lib/python3.9/site-packages/sklearn/base.py:493: FutureWarning: The feature names should match those that were passed during fit. Starting version 1.2, an error will be raised.\n",
      "Feature names unseen at fit time:\n",
      "- Income\n",
      "Feature names seen at fit time, yet now missing:\n",
      "- Abs(CapGains+Losses)\n",
      "\n",
      "  warnings.warn(message, FutureWarning)\n"
     ]
    },
    {
     "data": {
      "image/png": "[encoded data removed]",
      "text/plain": [
       "<Figure size 432x288 with 1 Axes>"
      ]
     },
     "metadata": {
      "needs_background": "light"
     },
     "output_type": "display_data"
    },
    {
     "name": "stdout",
     "output_type": "stream",
     "text": [
      "              precision    recall  f1-score   support\n",
      "\n",
      "         0.0       0.82      0.91      0.86      4362\n",
      "         1.0       0.31      0.17      0.22      1034\n",
      "\n",
      "    accuracy                           0.77      5396\n",
      "   macro avg       0.56      0.54      0.54      5396\n",
      "weighted avg       0.72      0.77      0.74      5396\n",
      "\n"
     ]
    },
    {
     "name": "stderr",
     "output_type": "stream",
     "text": [
      "/opt/anaconda3/lib/python3.9/site-packages/sklearn/base.py:493: FutureWarning: The feature names should match those that were passed during fit. Starting version 1.2, an error will be raised.\n",
      "Feature names unseen at fit time:\n",
      "- Income\n",
      "Feature names seen at fit time, yet now missing:\n",
      "- Abs(CapGains+Losses)\n",
      "\n",
      "  warnings.warn(message, FutureWarning)\n"
     ]
    },
    {
     "data": {
      "image/png": "[encoded data removed]",
      "text/plain": [
       "<Figure size 432x288 with 2 Axes>"
      ]
     },
     "metadata": {
      "needs_background": "light"
     },
     "output_type": "display_data"
    },
    {
     "data": {
      "image/png": "[encoded data removed]",
      "text/plain": [
       "<Figure size 432x288 with 1 Axes>"
      ]
     },
     "metadata": {
      "needs_background": "light"
     },
     "output_type": "display_data"
    },
    {
     "name": "stdout",
     "output_type": "stream",
     "text": [
      "              precision    recall  f1-score   support\n",
      "\n",
      "         0.0       0.66      0.85      0.74       312\n",
      "         1.0       0.87      0.69      0.77       447\n",
      "\n",
      "    accuracy                           0.75       759\n",
      "   macro avg       0.76      0.77      0.75       759\n",
      "weighted avg       0.78      0.75      0.76       759\n",
      "\n"
     ]
    },
    {
     "name": "stderr",
     "output_type": "stream",
     "text": [
      "/opt/anaconda3/lib/python3.9/site-packages/sklearn/base.py:493: FutureWarning: The feature names should match those that were passed during fit. Starting version 1.2, an error will be raised.\n",
      "Feature names unseen at fit time:\n",
      "- Income\n",
      "Feature names seen at fit time, yet now missing:\n",
      "- Abs(CapGains+Losses)\n",
      "\n",
      "  warnings.warn(message, FutureWarning)\n"
     ]
    },
    {
     "data": {
      "image/png": "[encoded data removed]",
      "text/plain": [
       "<Figure size 432x288 with 2 Axes>"
      ]
     },
     "metadata": {
      "needs_background": "light"
     },
     "output_type": "display_data"
    },
    {
     "data": {
      "image/png": "[encoded data removed]",
      "text/plain": [
       "<Figure size 432x288 with 1 Axes>"
      ]
     },
     "metadata": {
      "needs_background": "light"
     },
     "output_type": "display_data"
    },
    {
     "data": {
      "image/png": "[encoded data removed]",
      "text/plain": [
       "<Figure size 432x288 with 2 Axes>"
      ]
     },
     "metadata": {
      "needs_background": "light"
     },
     "output_type": "display_data"
    }
   ],
   "source": [
    "\n",
    "X_train = df.iloc[:, 0:10]\n",
    "y_train = df.iloc[:,-2]\n",
    "X_test = df_test.iloc[:, 0:10]\n",
    "y_test = df_test.iloc[:,-3]\n",
    "#Decision Tree Classifier\n",
    "dtclf = DecisionTreeClassifier(random_state = 12) \n",
    "dtclf = dtclf.fit(X_train,y_train)\n",
    "y_pred = dtclf.predict(X_test)\n",
    "print(classification_report(y_test, y_pred))\n",
    "fpr, tpr, thresholds = metrics.roc_curve(y_test,y_pred,drop_intermediate=False)\n",
    "roc_auc = metrics.auc(fpr, tpr)\n",
    "display = metrics.RocCurveDisplay(fpr=fpr, tpr=tpr, roc_auc=roc_auc, estimator_name='Decision Tree Classifier')\n",
    "display.plot()  # doctest: +SKIP\n",
    "plt.plot([0, 1], [0, 1],'r--')\n",
    "plt.show() \n",
    "cm = confusion_matrix(y_test, y_pred)\n",
    "cm_display = ConfusionMatrixDisplay(cm,display_labels=[0,1]).plot()\n",
    "\n",
    "\n",
    "X = cluster1.iloc[:, 0:10]\n",
    "y = cluster1.iloc[:,-2]\n",
    "X_test = cluster1t.iloc[:, 0:10]\n",
    "y_test = cluster1t.iloc[:,-3]\n",
    "dtclf = DecisionTreeClassifier(random_state = 12) \n",
    "dtclf = dtclf.fit(X_train,y_train)\n",
    "y_pred = dtclf.predict(X_test)\n",
    "print(classification_report(y_test, y_pred))\n",
    "fpr, tpr, thresholds = metrics.roc_curve(y_test,y_pred,drop_intermediate=False)\n",
    "roc_auc = metrics.auc(fpr, tpr)\n",
    "display = metrics.RocCurveDisplay(fpr=fpr, tpr=tpr, roc_auc=roc_auc, estimator_name='Decision Tree Classifier')\n",
    "display.plot()  # doctest: +SKIP\n",
    "plt.plot([0, 1], [0, 1],'r--')\n",
    "plt.show() \n",
    "cm = confusion_matrix(y_test, y_pred)\n",
    "cm_display = ConfusionMatrixDisplay(cm,display_labels=[0,1]).plot()\n",
    "\n",
    "X = cluster2.iloc[:, 0:10]\n",
    "y = cluster2.iloc[:,-2]\n",
    "X_test = cluster2t.iloc[:, 0:10]\n",
    "y_test = cluster2t.iloc[:,-3]\n",
    "dtclf = DecisionTreeClassifier(random_state = 12) \n",
    "dtclf = dtclf.fit(X_train,y_train)\n",
    "y_pred = dtclf.predict(X_test)\n",
    "print(classification_report(y_test, y_pred))\n",
    "fpr, tpr, thresholds = metrics.roc_curve(y_test,y_pred,drop_intermediate=False)\n",
    "roc_auc = metrics.auc(fpr, tpr)\n",
    "display = metrics.RocCurveDisplay(fpr=fpr, tpr=tpr, roc_auc=roc_auc, estimator_name='Decision Tree Classifier')\n",
    "display.plot()  # doctest: +SKIP\n",
    "plt.plot([0, 1], [0, 1],'r--')\n",
    "plt.show() \n",
    "cm = confusion_matrix(y_test, y_pred)\n",
    "cm_display = ConfusionMatrixDisplay(cm,display_labels=[0,1]).plot()\n"
   ]
  },
  {
   "cell_type": "markdown",
   "id": "98099ddc",
   "metadata": {},
   "source": [
    "ANALYSIS:\n",
    "\n",
    "Group Classification Model:\n",
    "AUC = 0.62\n",
    "\n",
    "Cluster1 (2415) AUC = 0.54\n",
    "Cluster2 (16346)  AUC = 0.77\n",
    "Average AUC Segmentation = 1304+12586/18761 = 0.74\n"
   ]
  }
 ],
 "metadata": {
  "kernelspec": {
   "display_name": "Python 3 (ipykernel)",
   "language": "python",
   "name": "python3"
  },
  "language_info": {
   "codemirror_mode": {
    "name": "ipython",
    "version": 3
   },
   "file_extension": ".py",
   "mimetype": "text/x-python",
   "name": "python",
   "nbconvert_exporter": "python",
   "pygments_lexer": "ipython3",
   "version": "3.9.12"
  }
 },
 "nbformat": 4,
 "nbformat_minor": 5
}
